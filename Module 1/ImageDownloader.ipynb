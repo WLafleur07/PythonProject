{
 "cells": [
  {
   "cell_type": "code",
   "execution_count": 1,
   "metadata": {},
   "outputs": [],
   "source": [
    "import requests\n",
    "import os\n",
    "from tqdm import tqdm\n",
    "from bs4 import BeautifulSoup as bs\n",
    "from urllib.parse import urljoin, urlparse"
   ]
  },
  {
   "cell_type": "code",
   "execution_count": 2,
   "metadata": {},
   "outputs": [],
   "source": [
    "def is_valid(url):\n",
    "    \"\"\"\n",
    "    Checks whether `url` is a valid URL.\n",
    "    \"\"\"\n",
    "    parsed = urlparse(url)\n",
    "    return bool(parsed.netloc) and bool(parsed.scheme)"
   ]
  },
  {
   "cell_type": "code",
   "execution_count": 3,
   "metadata": {},
   "outputs": [],
   "source": [
    "def get_all_images(url):\n",
    "    \"\"\"\n",
    "    Returns all image URLs on a single `url`\n",
    "    \"\"\"\n",
    "    soup = bs(requests.get(url).content, \"html.parser\")\n",
    "    urls = []\n",
    "    for img in tqdm(soup.find_all(\"img\"), \"Extracting images\"):\n",
    "        img_url = img.attrs.get(\"src\")\n",
    "        if not img_url:\n",
    "            # if img does not contain src attribute, just skip\n",
    "            continue\n",
    "        # make the URL absolute by joining domain with the URL that is just extracted\n",
    "        img_url = urljoin(url, img_url)\n",
    "        # remove URLs like '/hsts-pixel.gif?c=3.2.5'\n",
    "        try:\n",
    "            pos = img_url.index(\"?\")\n",
    "            img_url = img_url[:pos]\n",
    "        except ValueError:\n",
    "            pass\n",
    "        # finally, if the url is valid\n",
    "        if is_valid(img_url):\n",
    "            urls.append(img_url)\n",
    "    return urls"
   ]
  },
  {
   "cell_type": "code",
   "execution_count": 4,
   "metadata": {},
   "outputs": [],
   "source": [
    "def download(url, pathname):\n",
    "    \"\"\"\n",
    "    Downloads a file given an URL and puts it in the folder `pathname`\n",
    "    \"\"\"\n",
    "    # if path doesn't exist, make that path dir\n",
    "    if not os.path.isdir(pathname):\n",
    "        os.makedirs(pathname)\n",
    "    # download the body of response by chunk, not immediately\n",
    "    response = requests.get(url, stream=True)\n",
    "\n",
    "    # get the total file size\n",
    "    file_size = int(response.headers.get(\"Content-Length\", 0))\n",
    "\n",
    "    # get the file name\n",
    "    filename = os.path.join(pathname, url.split(\"/\")[-1])\n",
    "\n",
    "    # progress bar, changing the unit to bytes instead of iteration (default by tqdm)\n",
    "    progress = tqdm(response.iter_content(1024), f\"Downloading {filename}\", total=file_size, unit=\"B\", unit_scale=True,\n",
    "                    unit_divisor=1024)\n",
    "    with open(filename, \"wb\") as f:\n",
    "        for data in progress:\n",
    "            # write data read to the file\n",
    "            f.write(data)\n",
    "            # update the progress bar manually\n",
    "            progress.update(len(data))"
   ]
  },
  {
   "cell_type": "code",
   "execution_count": 5,
   "metadata": {},
   "outputs": [],
   "source": [
    "def main(url, path):\n",
    "    # get all images\n",
    "    imgs = get_all_images(url)\n",
    "    for img in imgs:\n",
    "        # for each img, download it\n",
    "        download(img, path)"
   ]
  },
  {
   "cell_type": "code",
   "execution_count": 6,
   "metadata": {},
   "outputs": [
    {
     "name": "stdin",
     "output_type": "stream",
     "text": [
      "Enter a URL:  https://automatetheboringstuff.com/2e/chapter12/\n"
     ]
    },
    {
     "name": "stderr",
     "output_type": "stream",
     "text": [
      "Extracting images: 100%|██████████| 30/30 [00:00<00:00, 30840.47it/s]\n",
      "Downloading DownloadedImages\\pixel.gif:   2%|▏         | 1.00/42.0 [00:00<00:00, 494B/s]\n",
      "Downloading DownloadedImages\\automate2_small_cover.png:   0%|          | 54.0/53.8k [00:00<01:01, 896B/s]\n",
      "Downloading DownloadedImages\\cover_codingwithminecraft_thumb.png:   0%|          | 84.0/84.0k [00:00<01:19, 1.08kB/s]\n",
      "Downloading DownloadedImages\\cover_crackingcodes_thumb.png:   0%|          | 71.0/70.4k [00:00<01:05, 1.09kB/s]\n",
      "Downloading DownloadedImages\\cover_invent4th_thumb.png:   0%|          | 76.0/75.1k [00:00<00:58, 1.31kB/s]\n",
      "Downloading DownloadedImages\\cover_scratchprogrammingplayground_thumb.jpg:   0%|          | 66.0/65.2k [00:00<00:53, 1.24kB/s]\n",
      "Downloading DownloadedImages\\cover_makinggames_thumb.png:   0%|          | 27.0/26.2k [00:00<00:38, 690B/s]\n",
      "Downloading DownloadedImages\\prev.png:   0%|          | 3.00/2.66k [00:00<00:01, 1.50kB/s]\n",
      "Downloading DownloadedImages\\toc.png:   0%|          | 3.00/2.35k [00:00<00:00, 3.10kB/s]\n",
      "Downloading DownloadedImages\\next.png:   0%|          | 3.00/2.66k [00:00<00:03, 752B/s]\n",
      "Downloading DownloadedImages\\000070.jpg:   0%|          | 44.0/43.1k [00:00<00:48, 908B/s]\n",
      "Downloading DownloadedImages\\000018.jpg:   0%|          | 24.0/24.0k [00:00<00:37, 647B/s]\n",
      "Downloading DownloadedImages\\000111.jpg:   0%|          | 25.0/24.9k [00:00<00:37, 676B/s]\n",
      "Downloading DownloadedImages\\000056.jpg:   0%|          | 76.0/75.3k [00:00<01:05, 1.18kB/s]\n",
      "Downloading DownloadedImages\\000064.jpg:   0%|          | 12.0/11.4k [00:00<00:15, 748B/s]\n",
      "Downloading DownloadedImages\\000152.jpg:   0%|          | 44.0/43.4k [00:00<01:04, 688B/s]\n",
      "Downloading DownloadedImages\\000064.jpg:   0%|          | 12.0/11.4k [00:00<00:20, 568B/s]\n",
      "Downloading DownloadedImages\\000064.jpg:   0%|          | 12.0/11.4k [00:00<00:13, 858B/s]\n",
      "Downloading DownloadedImages\\000094.jpg:   0%|          | 68.0/67.9k [00:00<01:06, 1.04kB/s]\n",
      "Downloading DownloadedImages\\000040.jpg:   0%|          | 77.0/76.8k [00:00<01:06, 1.18kB/s]\n",
      "Downloading DownloadedImages\\000131.jpg:   0%|          | 65.0/65.0k [00:00<01:03, 1.05kB/s]\n",
      "Downloading DownloadedImages\\prev.png:   0%|          | 3.00/2.66k [00:00<00:01, 1.50kB/s]\n",
      "Downloading DownloadedImages\\toc.png:   0%|          | 3.00/2.35k [00:00<00:04, 504B/s]\n",
      "Downloading DownloadedImages\\next.png:   0%|          | 3.00/2.66k [00:00<00:00, 3.01kB/s]\n",
      "Downloading DownloadedImages\\automate2_small_cover.png:   0%|          | 54.0/53.8k [00:00<01:01, 897B/s]\n",
      "Downloading DownloadedImages\\cover_codingwithminecraft_thumb.png:   0%|          | 84.0/84.0k [00:00<01:11, 1.20kB/s]\n",
      "Downloading DownloadedImages\\cover_crackingcodes_thumb.png:   0%|          | 71.0/70.4k [00:00<01:10, 1.02kB/s]\n",
      "Downloading DownloadedImages\\cover_invent4th_thumb.png:   0%|          | 76.0/75.1k [00:00<01:06, 1.15kB/s]\n",
      "Downloading DownloadedImages\\cover_scratchprogrammingplayground_thumb.jpg:   0%|          | 66.0/65.2k [00:00<00:56, 1.18kB/s]\n",
      "Downloading DownloadedImages\\cover_makinggames_thumb.png:   0%|          | 27.0/26.2k [00:00<00:28, 933B/s]\n"
     ]
    }
   ],
   "source": [
    "if __name__ == \"__main__\":\n",
    "    import argparse\n",
    "\n",
    "    '''Run the script in the terminal by specifying main.py -URL and -Path, \n",
    "    if desired or just pass in URL without Path'''\n",
    "    \n",
    "    url = r'{}'.format(input(\"Enter a URL: \"))\n",
    "    r\"https://automatetheboringstuff.com/2e/chapter12/\"\n",
    "    \n",
    "    path = r\"DownloadedImages\"\n",
    "\n",
    "    if not path:\n",
    "        # if path isn't specified, use the domain name of that url as the folder name\n",
    "        path = urlparse(url).netloc\n",
    "\n",
    "    main(url, path)"
   ]
  },
  {
   "cell_type": "code",
   "execution_count": null,
   "metadata": {},
   "outputs": [],
   "source": []
  }
 ],
 "metadata": {
  "kernelspec": {
   "display_name": "Python 3",
   "language": "python",
   "name": "python3"
  },
  "language_info": {
   "codemirror_mode": {
    "name": "ipython",
    "version": 3
   },
   "file_extension": ".py",
   "mimetype": "text/x-python",
   "name": "python",
   "nbconvert_exporter": "python",
   "pygments_lexer": "ipython3",
   "version": "3.7.6"
  }
 },
 "nbformat": 4,
 "nbformat_minor": 4
}
