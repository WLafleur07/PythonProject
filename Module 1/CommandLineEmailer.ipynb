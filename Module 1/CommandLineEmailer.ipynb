{
 "cells": [
  {
   "cell_type": "markdown",
   "metadata": {},
   "source": [
    "# Emailer for SLC website"
   ]
  },
  {
   "cell_type": "code",
   "execution_count": 1,
   "metadata": {},
   "outputs": [],
   "source": [
    "import sys # to import libraries\n",
    "#!{sys.executable} -m pip install selenium\n",
    "#!{sys.executable} -m pip install pynput\n",
    "#!{sys.executable} -m pip install pyautogui\n",
    "\n",
    "import time # to wait\n",
    "from selenium import webdriver # to use firefox\n",
    "from selenium.webdriver.common.keys import Keys\n",
    "from pynput.keyboard import Key, Controller # used to type/press keyboard keys\n",
    "import pyautogui # Used to change windows"
   ]
  },
  {
   "cell_type": "markdown",
   "metadata": {},
   "source": [
    "Prompt the user to enter SLC username, SLC password, email recipient, email subject and email body."
   ]
  },
  {
   "cell_type": "code",
   "execution_count": 2,
   "metadata": {},
   "outputs": [
    {
     "name": "stdin",
     "output_type": "stream",
     "text": [
      "What is your SLC username?:  wlafleur07@sl.on.ca\n"
     ]
    }
   ],
   "source": [
    "slc_username = input('What is your SLC username?: ') # prompt to get login information for slc"
   ]
  },
  {
   "cell_type": "code",
   "execution_count": 3,
   "metadata": {},
   "outputs": [
    {
     "name": "stdin",
     "output_type": "stream",
     "text": [
      "What is your SLC password?:  Flower0123!\n"
     ]
    }
   ],
   "source": [
    "slc_password = input('What is your SLC password?: ') # prompt to get login information for slc"
   ]
  },
  {
   "cell_type": "code",
   "execution_count": 4,
   "metadata": {},
   "outputs": [
    {
     "name": "stdin",
     "output_type": "stream",
     "text": [
      "Who would you like to send an email to?:  mdrury29@gmail.com\n"
     ]
    }
   ],
   "source": [
    "email_recipient = input('Who would you like to send an email to?: ') # prompt to get the email address to send the email to"
   ]
  },
  {
   "cell_type": "code",
   "execution_count": 5,
   "metadata": {},
   "outputs": [
    {
     "name": "stdin",
     "output_type": "stream",
     "text": [
      "What is the subject of the email?:  You suck, I'm great\n"
     ]
    }
   ],
   "source": [
    "email_subject = input('What is the subject of the email?: ') # subject of the email to be sent"
   ]
  },
  {
   "cell_type": "code",
   "execution_count": 7,
   "metadata": {},
   "outputs": [
    {
     "name": "stdin",
     "output_type": "stream",
     "text": [
      "What would you like to say?:  I am the greatest creature in the universe!\n"
     ]
    }
   ],
   "source": [
    "email_body = input('What would you like to say?: ') # What would you like to say in your email"
   ]
  },
  {
   "cell_type": "markdown",
   "metadata": {},
   "source": [
    "Providing the path the the geckodriver which will launch a Firefox instance"
   ]
  },
  {
   "cell_type": "code",
   "execution_count": 15,
   "metadata": {},
   "outputs": [],
   "source": [
    "browser = webdriver.Firefox(executable_path=r'C:\\Users\\William\\Documents\\geckodriver.exe')"
   ]
  },
  {
   "cell_type": "code",
   "execution_count": 16,
   "metadata": {},
   "outputs": [],
   "source": [
    "browser.maximize_window()"
   ]
  },
  {
   "cell_type": "code",
   "execution_count": 17,
   "metadata": {},
   "outputs": [],
   "source": [
    "browser.implicitly_wait(30)"
   ]
  },
  {
   "cell_type": "markdown",
   "metadata": {},
   "source": [
    "Launch the SLC website"
   ]
  },
  {
   "cell_type": "code",
   "execution_count": 18,
   "metadata": {},
   "outputs": [],
   "source": [
    "browser.get('https://sts.sl.on.ca/adfs/ls/?client-request-id=e60caf42-34c7-4ce8-8561-d1346d760191&username=&wa=wsignin1.0&wtrealm=urn%3afederation%3aMicrosoftOnline&wctx=estsredirect%3d2%26estsrequest%3drQIIAeNisDLKKCkpKLbS1y8uyUksL0rNS05Nzs_JSU1P1SvOSCxKLcjPzCvRS87P1csvSs9MAbGKhLgEnNbzPDtu8sKnNfGiSW4Z48RZjBzFOXr5eXrJiasYTYg1U784syS1WL84Jzk39QIj4wtGxltMgv5F6Z4p4cVuqSmpRYklmfl5F1gEXrHwGDBbcXBwCTBIMCgw_GBhXMQKdMUNoxzTJsftTkunq__-7T6L4RSrvmdAVp6BeXhUaap-pYtfsnmUa2GmS3mARUaycbJZjrmbkVG2RWCuR3Z2nqOtoZXhBDahCWxMp9gYPrAxdrAzzGJn2MVJlvNvcYkYGRgZ6hqY6BqaKhhaWJmYWhmaRh3gZQAA0')"
   ]
  },
  {
   "cell_type": "markdown",
   "metadata": {},
   "source": [
    "program enters the previously entered SLC username"
   ]
  },
  {
   "cell_type": "code",
   "execution_count": 19,
   "metadata": {},
   "outputs": [],
   "source": [
    "browser.find_element_by_name('UserName').send_keys(slc_username) # finding the username and password field and entering data\n",
    "time.sleep(3)\n",
    "browser.find_element_by_name('Password').send_keys(slc_password)\n",
    "time.sleep(3)\n",
    "browser.find_element_by_id('submitButton').click() # clicking the submit button"
   ]
  },
  {
   "cell_type": "markdown",
   "metadata": {},
   "source": [
    "program enters the previously entered SLC password"
   ]
  },
  {
   "cell_type": "markdown",
   "metadata": {},
   "source": [
    "### Clicking submit and being able to move to the next screen will only work if DUO authentication is not enabled. If it is, the steps to continue are not established."
   ]
  },
  {
   "cell_type": "code",
   "execution_count": 20,
   "metadata": {},
   "outputs": [],
   "source": [
    "time.sleep(15)"
   ]
  },
  {
   "cell_type": "markdown",
   "metadata": {},
   "source": [
    "Finds the My Email button and clicks it, linking to the outlook page."
   ]
  },
  {
   "cell_type": "code",
   "execution_count": 21,
   "metadata": {},
   "outputs": [],
   "source": [
    "browser.find_element_by_xpath(\"//a[@title='My Email']\").click() # Find the email field on the SLC website and click it"
   ]
  },
  {
   "cell_type": "code",
   "execution_count": 22,
   "metadata": {},
   "outputs": [],
   "source": [
    "time.sleep(2)"
   ]
  },
  {
   "cell_type": "code",
   "execution_count": 23,
   "metadata": {},
   "outputs": [],
   "source": [
    "firefox_window = pyautogui.getWindowsWithTitle('Mail -')[0] # find the firefox window that has a tab partially named \"Mail -\""
   ]
  },
  {
   "cell_type": "code",
   "execution_count": 24,
   "metadata": {},
   "outputs": [
    {
     "name": "stdout",
     "output_type": "stream",
     "text": [
      "\n",
      "Email was sent.\n"
     ]
    }
   ],
   "source": [
    "time.sleep(2)\n",
    "\n",
    "firefox_window.minimize() # Window would not activate with pyautogui.activate(), so I had to ge creative by minimizing and then maximizing the window, which set it to the active one\n",
    "firefox_window.maximize()\n",
    "\n",
    "\n",
    "time.sleep(3)\n",
    "keyboard = Controller() # making an object from the 'pynput' module\n",
    "\n",
    "# hotkey to send a new email\n",
    "keyboard.press('n') # selenium wouldn't work with the \"New message\" button when I tried to access it using css or xpath. Resorted to using the outlook hotkey to create a new email\n",
    "keyboard.release('n')\n",
    "\n",
    "time.sleep(3)\n",
    "keyboard.type(email_recipient) # typing pointer is in the recipient line, so the type method is used to write the previously entered data\n",
    "\n",
    "# Moves the pointer to the Subject Line\n",
    "keyboard.press(Key.tab.value)\n",
    "keyboard.release(Key.tab.value)\n",
    "keyboard.press(Key.tab.value) # tabbing over a lot to move the pointer from email recipient to the subject line, this would need to be changed if anyone needed to be Bcc'ed\n",
    "keyboard.release(Key.tab.value)\n",
    "keyboard.press(Key.tab.value)\n",
    "keyboard.release(Key.tab.value)\n",
    "keyboard.press(Key.tab.value)\n",
    "keyboard.release(Key.tab.value)\n",
    "\n",
    "# enters the subject\n",
    "keyboard.type(email_subject) # types the email subject in the email field\n",
    "\n",
    "# moves pointer to the body\n",
    "keyboard.press(Key.tab.value)\n",
    "keyboard.release(Key.tab.value)\n",
    "\n",
    "# enters the body\n",
    "keyboard.type(email_body)\n",
    "\n",
    "# Hotkey to send email\n",
    "keyboard.press(Key.ctrl.value) # using the outlook hotkey to send the email which is 'Ctrl+Enter'\n",
    "keyboard.press(Key.enter.value)\n",
    "\n",
    "# releases the keys that were pressed\n",
    "keyboard.release(Key.ctrl.value)\n",
    "keyboard.release(Key.enter.value)\n",
    "\n",
    "print('Email was sent.')"
   ]
  },
  {
   "cell_type": "code",
   "execution_count": null,
   "metadata": {},
   "outputs": [],
   "source": []
  }
 ],
 "metadata": {
  "kernelspec": {
   "display_name": "Python 3",
   "language": "python",
   "name": "python3"
  },
  "language_info": {
   "codemirror_mode": {
    "name": "ipython",
    "version": 3
   },
   "file_extension": ".py",
   "mimetype": "text/x-python",
   "name": "python",
   "nbconvert_exporter": "python",
   "pygments_lexer": "ipython3",
   "version": "3.7.6"
  }
 },
 "nbformat": 4,
 "nbformat_minor": 4
}
